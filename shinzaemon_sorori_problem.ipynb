{
  "nbformat": 4,
  "nbformat_minor": 0,
  "metadata": {
    "colab": {
      "name": "shinzaemon_sorori_problem.ipynb",
      "provenance": [],
      "authorship_tag": "ABX9TyMysvjArEPcaLIBO2xWngyC",
      "include_colab_link": true
    },
    "kernelspec": {
      "name": "python3",
      "display_name": "Python 3"
    },
    "language_info": {
      "name": "python"
    }
  },
  "cells": [
    {
      "cell_type": "markdown",
      "metadata": {
        "id": "view-in-github",
        "colab_type": "text"
      },
      "source": [
        "<a href=\"https://colab.research.google.com/github/PeterYves/DIC-ML-Assignmnent/blob/main/shinzaemon_sorori_problem.ipynb\" target=\"_parent\"><img src=\"https://colab.research.google.com/assets/colab-badge.svg\" alt=\"Open In Colab\"/></a>"
      ]
    },
    {
      "cell_type": "markdown",
      "source": [
        "## `【Problem 1] Number of grains of rice on the 100th day`\n",
        "\n",
        "---\n",
        "\n"
      ],
      "metadata": {
        "id": "XvnubqpEwUQm"
      }
    },
    {
      "cell_type": "code",
      "execution_count": null,
      "metadata": {
        "colab": {
          "base_uri": "https://localhost:8080/"
        },
        "id": "V_mdG615HIDa",
        "outputId": "28364049-df52-42ca-c3ad-12951552756e"
      },
      "outputs": [
        {
          "output_type": "stream",
          "name": "stdout",
          "text": [
            "The total number of grains of rice you will receive on the 100th day are: 633825300114114700748351602688 grains\n"
          ]
        }
      ],
      "source": [
        "nbr_of_days = 100\n",
        "grain = 1\n",
        "list_of_grains = [1]\n",
        "total_grains = [1]\n",
        "\n",
        "for i in range(1,nbr_of_days):\n",
        "    grain += grain\n",
        "    list_of_grains.append(list_of_grains[-1]*2)\n",
        "    total_grains.append(sum(list_of_grains))\n",
        "print (\"The total number of grains of rice you will receive on the 100th day are:\", grain,\"grains\")"
      ]
    },
    {
      "cell_type": "markdown",
      "source": [
        "`Graphical representation`:\n",
        "\n"
      ],
      "metadata": {
        "id": "cVMkn-Bw1Rgh"
      }
    },
    {
      "cell_type": "code",
      "source": [
        "import  matplotlib.pyplot  as plt\n",
        "%matplotlib inline \n",
        "\n",
        "plt.title( \"Graph of grains of rice on 100th day \" )\n",
        "plt.xlabel( \"Number of days \" )\n",
        "plt.ylabel( \"NUmber of grains \" )\n",
        "plt.plot (list_of_grains, color = 'blue', label='Daily', linewidth=5)\n",
        "plt.plot (total_grains, color = 'orange', label='Total',linewidth=5)\n",
        "plt.legend()\n",
        "plt.show()"
      ],
      "metadata": {
        "colab": {
          "base_uri": "https://localhost:8080/",
          "height": 295
        },
        "id": "Uvz8g1RX1OnN",
        "outputId": "54b8b5c4-d117-45f1-8be9-8dea0d38c913"
      },
      "execution_count": null,
      "outputs": [
        {
          "output_type": "display_data",
          "data": {
            "text/plain": [
              "<Figure size 432x288 with 1 Axes>"
            ],
            "image/png": "[encoded data removed]"
          },
          "metadata": {
            "needs_background": "light"
          }
        }
      ]
    },
    {
      "cell_type": "markdown",
      "source": [
        "## `【Problem 2] Number of rice grains outside of the 100th day`\n",
        "\n",
        "---\n",
        "\n"
      ],
      "metadata": {
        "id": "PnkEB2Fp3rR8"
      }
    },
    {
      "cell_type": "code",
      "source": [
        "import numpy as np\n",
        "def compute_sorori_shinzaemon(day=100):\n",
        "    list_n_grains = list_of_grains[:day]\n",
        "    list_total_grains = total_grains[:day]\n",
        "    print(\"Total number of rice gains after {} days is : {} \".format(day,np.sum(list_n_grains)))\n",
        "  \n",
        "    days = range(1, day+1) \n",
        "    return list_n_grains,list_total_grains\n",
        "list_n_grains,list_total_grains=compute_sorori_shinzaemon(day=12)"
      ],
      "metadata": {
        "id": "x_USvCCj3z5O",
        "colab": {
          "base_uri": "https://localhost:8080/"
        },
        "outputId": "6292c1dd-76f8-4841-a8dc-668596b2028f"
      },
      "execution_count": 41,
      "outputs": [
        {
          "output_type": "stream",
          "name": "stdout",
          "text": [
            "Total number of rice gains after 12 days is : 4095 \n"
          ]
        }
      ]
    },
    {
      "cell_type": "code",
      "source": [
        "def compute_sorori_shinzaemon(day=100):\n",
        "    list_n_grains = list_of_grains[:day]\n",
        "    list_total_grains = total_grains[:day]\n",
        "    print(\"Total number of rice gains after {} days is : {} \".format(day,np.sum(list_n_grains)))\n",
        "  \n",
        "    days = range(1, day+1)    \n",
        "    plt.plot(days, list_n_grains, 'g-o', linewidth=2.5, markersize=5, markeredgewidth=2.5, markeredgecolor='orange', color=\"orange\")\n",
        "    plt.plot(days, list_total_grains, 'r--o', linewidth=2.5, markersize=5,color=\"blue\");\n",
        "    plt.title('Number of Rice grains in {} days'.format(day))\n",
        "    plt.xlabel('Days'); \n",
        "    plt.ylabel('Number of rice grains');\n",
        "    plt.legend(['Number of rice you receive on that day', 'The total number of rice you receive by that day'])\n",
        "    return list_n_grains,list_total_grains\n",
        "list_n_grains,list_total_grains=compute_sorori_shinzaemon(day=12)\n",
        "plt.show()"
      ],
      "metadata": {
        "colab": {
          "base_uri": "https://localhost:8080/",
          "height": 312
        },
        "id": "NwHTB9rrEm4f",
        "outputId": "36c3f1f3-e806-409a-ca89-fc096e955abf"
      },
      "execution_count": 40,
      "outputs": [
        {
          "output_type": "stream",
          "name": "stdout",
          "text": [
            "Total number of rice gains after 12 days is : 4095 \n"
          ]
        },
        {
          "output_type": "display_data",
          "data": {
            "text/plain": [
              "<Figure size 432x288 with 1 Axes>"
            ],
            "image/png": "[encoded data removed]"
          },
          "metadata": {
            "needs_background": "light"
          }
        }
      ]
    },
    {
      "cell_type": "markdown",
      "source": [
        "## `【Problem 3] How many people can live for how many days with the rice we get?`\n",
        "\n",
        "---\n",
        "\n"
      ],
      "metadata": {
        "id": "plSMWeh6PLJG"
      }
    },
    {
      "cell_type": "markdown",
      "source": [
        "> `According to wikipedia, The United Nations' World Food Program stated that it takes 400 grams or about 19,200 grains of rice to feed one adult for a day.\"`\n",
        "\n",
        "\n",
        "\n"
      ],
      "metadata": {
        "id": "pljytqZKSAIs"
      }
    },
    {
      "cell_type": "code",
      "source": [
        "#Let's take 200 as the number of grains of rice required per one people to live one day\n",
        "def number_of_days_to_live(number_of_grains,number_of_people):\n",
        "    \n",
        "    #by calculating the number of days to live for one people for the given number of grains\n",
        "    days_to_live_per_one_people = number_of_grains/200\n",
        "    \n",
        "    #hence calculate the number of days to live for the given number of people\n",
        "    num_days_to_live = days_to_live_per_one_people/number_of_people\n",
        "\n",
        "    return num_days_to_live\n",
        "n=number_of_days_to_live(19200,5)\n",
        "print(\"Number of days to live = {} days\".format(n//1))"
      ],
      "metadata": {
        "colab": {
          "base_uri": "https://localhost:8080/"
        },
        "id": "hYhfvlvSPaKl",
        "outputId": "0505c9c9-9431-4d3f-939b-98eb753beab1"
      },
      "execution_count": 43,
      "outputs": [
        {
          "output_type": "stream",
          "name": "stdout",
          "text": [
            "Number of days to live = 19.0 days\n"
          ]
        }
      ]
    }
  ]
}