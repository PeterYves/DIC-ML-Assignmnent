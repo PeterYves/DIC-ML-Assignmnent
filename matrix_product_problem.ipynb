{
  "nbformat": 4,
  "nbformat_minor": 0,
  "metadata": {
    "colab": {
      "name": "matrix_product_problem.ipynb",
      "provenance": [],
      "collapsed_sections": [],
      "authorship_tag": "ABX9TyNePcfuy+9pgBeaAnXK5keT",
      "include_colab_link": true
    },
    "kernelspec": {
      "name": "python3",
      "display_name": "Python 3"
    },
    "language_info": {
      "name": "python"
    }
  },
  "cells": [
    {
      "cell_type": "markdown",
      "metadata": {
        "id": "view-in-github",
        "colab_type": "text"
      },
      "source": [
        "<a href=\"https://colab.research.google.com/github/PeterYves/DIC-ML-Assignmnent/blob/main/matrix_product_problem.ipynb\" target=\"_parent\"><img src=\"https://colab.research.google.com/assets/colab-badge.svg\" alt=\"Open In Colab\"/></a>"
      ]
    },
    {
      "cell_type": "markdown",
      "source": [
        "### [Problem 1] Matrix product is calculated manually\n",
        "\n",
        "---"
      ],
      "metadata": {
        "id": "wWWNMxnI1ByB"
      }
    },
    {
      "cell_type": "markdown",
      "source": [
        "**` QUESTION:`**\n",
        "\n",
        "A=\n",
        "  \\begin{bmatrix} \n",
        "    -1 & 2 & 3 \\\\\\\\ 4 & -5 & 6 \\\\\\\\ 7 & 8 & -9 \n",
        "  \\end{bmatrix},\n",
        "  B=\n",
        "  \\begin{bmatrix} \n",
        "    0 & 2 & 1 \\\\\\\\ 0 & 2 & -8 \\\\\\\\ 2 & 9 & -1\n",
        "  \\end{bmatrix}\n",
        "\n",
        "\n",
        "**`Answering steps:`**\n",
        "\n",
        "**Step1: Multiplication of every matrix element :**\n",
        "\n",
        "\\begin{bmatrix}\n",
        "        (-1*0)+(2*0)+(3*2)&(-1*2)+(2*2)+(3*9)&(-1*1)+(2*-8)+(3*-1)\\\\\\\\\n",
        "        (4*0)+(-5*0)+(6*2)&(4*2)+(-5*2)+(6*9)&(4*1)+(-5*-8)+(6*-1)\\\\\\\\\n",
        "        (7*0)+(8*0)+(-9*2)&(7*2)+(8*2)+(-9*9)&(7*1)+(8*-8)+(-9*-1)\\\\\\\\\n",
        "\\end{bmatrix}\n",
        "\n",
        "\n",
        "\n",
        "**Step2: Then the above results into:**\n",
        "\n",
        "\\begin{bmatrix}\n",
        "        (O+0+6)&(-2+4+27)&(-1-16-3)\\\\\\\\\n",
        "        (O+0+12)&(8-10+54)&(4+40-6)\\\\\\\\\n",
        "        (O+0-18)&(14+16-81)&(7-64+9)\\\\\\\\\n",
        "\\end{bmatrix}\n",
        "\n",
        "\n",
        "**Step3: Then the final answer is:**\n",
        "\n",
        "\\begin{pmatrix}\n",
        "        6&29&-20\\\\\\\\\n",
        "        12&52&38\\\\\\\\\n",
        "        -18&-51&-48\n",
        "\\end{pmatrix}"
      ],
      "metadata": {
        "id": "m4MaZAoE4ieh"
      }
    },
    {
      "cell_type": "markdown",
      "source": [
        "### [Problem 2] Calculation by NumPy function\n",
        "\n",
        "---\n",
        "\n"
      ],
      "metadata": {
        "id": "jjcpig4JK_qQ"
      }
    },
    {
      "cell_type": "code",
      "source": [
        "import numpy as np\n",
        "a_ndarray = np.array([[-1, 2, 3], [4, -5, 6], [7, 8, -9]])\n",
        "b_ndarray = np.array([[0, 2, 1], [0, 2, -8], [2, 9, -1]])\n",
        "\n",
        "ab_ndarray = a_ndarray @ b_ndarray # this is the same as writting \"np.matmul(a_ndarray,b_ndarray)\"\n",
        "\n",
        "print(ab_ndarray)"
      ],
      "metadata": {
        "colab": {
          "base_uri": "https://localhost:8080/"
        },
        "id": "0xtlKJF4GsJ-",
        "outputId": "27c3bc23-a18a-4c22-ee8c-79c4ab773794"
      },
      "execution_count": null,
      "outputs": [
        {
          "output_type": "stream",
          "name": "stdout",
          "text": [
            "[[  6  29 -20]\n",
            " [ 12  52  38]\n",
            " [-18 -51 -48]]\n"
          ]
        }
      ]
    },
    {
      "cell_type": "markdown",
      "source": [
        "### [Problem 3] Implementation of calculation of a certain element\n",
        "\n",
        "---\n",
        "\n"
      ],
      "metadata": {
        "id": "gC3YX9yjUUqv"
      }
    },
    {
      "cell_type": "code",
      "source": [
        "sum_of_ab_ndarray = (a_ndarray[1][0]*b_ndarray[0][1])+(a_ndarray[1][1]*b_ndarray[1][1])+(a_ndarray[1][2]*b_ndarray[2][1])\n",
        "print(sum_of_ab_ndarray)"
      ],
      "metadata": {
        "colab": {
          "base_uri": "https://localhost:8080/"
        },
        "id": "wfdoIoiCTogO",
        "outputId": "ff41851e-47ed-418e-ab57-81df6224fc8d"
      },
      "execution_count": null,
      "outputs": [
        {
          "output_type": "stream",
          "name": "stdout",
          "text": [
            "52\n"
          ]
        }
      ]
    },
    {
      "cell_type": "markdown",
      "source": [
        "### [Problem 4] Creating a function that performs matrix multiplication\n",
        "\n",
        "---\n",
        "\n"
      ],
      "metadata": {
        "id": "op841qO5WNmC"
      }
    },
    {
      "cell_type": "code",
      "source": [
        "def product_of_matrix(a, b):\n",
        "    ab_ndarray = np.empty([3,3])\n",
        "    for row in range(a.shape[0]):\n",
        "        for column in range(b.shape[1]):\n",
        "            ab_ndarray[row][column] = sum(a[row, :]*b[:, column])\n",
        "    return ab_ndarray\n",
        "print(product_of_matrix(a_ndarray, b_ndarray))"
      ],
      "metadata": {
        "colab": {
          "base_uri": "https://localhost:8080/"
        },
        "id": "sdjUDq9OWUqx",
        "outputId": "0434df16-8dc7-495d-b423-80a3cfd31e65"
      },
      "execution_count": null,
      "outputs": [
        {
          "output_type": "stream",
          "name": "stdout",
          "text": [
            "[[  6.  29. -20.]\n",
            " [ 12.  52.  38.]\n",
            " [-18. -51. -48.]]\n"
          ]
        }
      ]
    },
    {
      "cell_type": "markdown",
      "source": [
        "### [Problem 5] Judge the input whose calculation is not defined\n",
        "\n",
        "---\n",
        "\n"
      ],
      "metadata": {
        "id": "6Yz5p2_Rk7cy"
      }
    },
    {
      "cell_type": "code",
      "source": [
        "d_ndarray = np.array([[-1, 2, 3],[4, -5, 6]])\n",
        "e_ndarray = np.array([[-9, 8, 7],[6, -5, 4]])\n",
        "if(d_ndarray.shape[0]==e_ndarray.shape[1]):\n",
        "    print(product_of_matrix(d_ndarray, e_ndarray))\n",
        "else:\n",
        "        print(\"There is a problem with the size of the matrixes, which may result in incorrect calculations.\")\n"
      ],
      "metadata": {
        "colab": {
          "base_uri": "https://localhost:8080/"
        },
        "id": "qlC8odDxk-Jt",
        "outputId": "d9934732-09ea-4b12-de26-f874762149fa"
      },
      "execution_count": null,
      "outputs": [
        {
          "output_type": "stream",
          "name": "stdout",
          "text": [
            "There is a problem with the size of the matrixes, which may result in incorrect calculations.\n"
          ]
        }
      ]
    },
    {
      "cell_type": "markdown",
      "source": [
        "### [Problem 6] Transposition\n",
        "\n",
        "---\n",
        "\n"
      ],
      "metadata": {
        "id": "C4dkz22nsRsj"
      }
    },
    {
      "cell_type": "code",
      "source": [
        "f_ndarray = d_ndarray.T\n",
        "print(product_of_matrix(f_ndarray, e_ndarray))"
      ],
      "metadata": {
        "colab": {
          "base_uri": "https://localhost:8080/"
        },
        "id": "-X2kRZihsV9S",
        "outputId": "5c6199e0-3dba-4ad3-a5d9-f7d22f66042b"
      },
      "execution_count": null,
      "outputs": [
        {
          "output_type": "stream",
          "name": "stdout",
          "text": [
            "[[ 33. -28.   9.]\n",
            " [-48.  41.  -6.]\n",
            " [  9.  -6.  45.]]\n"
          ]
        }
      ]
    }
  ]
}