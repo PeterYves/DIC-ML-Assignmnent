{
  "nbformat": 4,
  "nbformat_minor": 0,
  "metadata": {
    "colab": {
      "name": "wheat_and_chess_board_problem.ipynb",
      "provenance": [],
      "authorship_tag": "ABX9TyMxDHK3xybO0e+NYQ/y3gzr",
      "include_colab_link": true
    },
    "kernelspec": {
      "name": "python3",
      "display_name": "Python 3"
    },
    "language_info": {
      "name": "python"
    }
  },
  "cells": [
    {
      "cell_type": "markdown",
      "metadata": {
        "id": "view-in-github",
        "colab_type": "text"
      },
      "source": [
        "<a href=\"https://colab.research.google.com/github/PeterYves/DIC-ML-Assignmnent/blob/main/wheat_and_chess_board_problem.ipynb\" target=\"_parent\"><img src=\"https://colab.research.google.com/assets/colab-badge.svg\" alt=\"Open In Colab\"/></a>"
      ]
    },
    {
      "cell_type": "markdown",
      "source": [
        "## **Wheat and chess board problem**\n",
        "\n",
        "---\n",
        "\n"
      ],
      "metadata": {
        "id": "K6pkuPUUZVaj"
      }
    },
    {
      "cell_type": "markdown",
      "source": [
        "### [Problem 1] Number of wheat on a 2x2 chess board:\n",
        "\n",
        "---\n",
        "\n"
      ],
      "metadata": {
        "id": "tRVknr4QZp6r"
      }
    },
    {
      "cell_type": "code",
      "execution_count": 2,
      "metadata": {
        "colab": {
          "base_uri": "https://localhost:8080/"
        },
        "id": "OsdzEagZB_Q6",
        "outputId": "31649005-ee94-4f30-ef63-0ac7fc0d1ce2"
      },
      "outputs": [
        {
          "output_type": "stream",
          "name": "stdout",
          "text": [
            "The number of wheat on 2x2 shaped ndarray are: \n",
            "[[1 2]\n",
            " [4 8]]\n"
          ]
        }
      ],
      "source": [
        "import numpy as np\n",
        "number_square = 4\n",
        "small_board_list = [1]\n",
        "for _ in range(number_square - 1):\n",
        "    small_board_list.append(2*small_board_list[-1])\n",
        "small_board_ndarray = np.array(small_board_list).reshape(2,2)\n",
        "print(\"The number of wheats on 2x2 shaped ndarray are: \\n{}\".format(small_board_ndarray))"
      ]
    },
    {
      "cell_type": "markdown",
      "source": [
        "### [Problem 2] Expansion to n × m mass\n",
        "\n",
        "---\n",
        "\n"
      ],
      "metadata": {
        "id": "VVVuOhJyg2Lb"
      }
    },
    {
      "cell_type": "code",
      "source": [
        "# Function Defiition\n",
        "def num_of_wheat(n, m):\n",
        "    chess_square = n*m\n",
        "    chessBoardlist = [1]\n",
        "    for square in range (chess_square-1):\n",
        "        chessBoardlist.append(2*chessBoardlist[square])\n",
        "        \n",
        "    return np.array(chessBoardlist).reshape(n,m).astype(np.uint64)\n",
        "print(\"Number of wheats on a 8/8 chess board is: \")\n",
        "print(num_of_wheat(8,8))"
      ],
      "metadata": {
        "colab": {
          "base_uri": "https://localhost:8080/"
        },
        "id": "NnAgMQz5g-yd",
        "outputId": "48964ded-d543-4501-8bd4-6ebb8baf021b"
      },
      "execution_count": 5,
      "outputs": [
        {
          "output_type": "stream",
          "name": "stdout",
          "text": [
            "Number of wheats on a 8/8 chess board is: \n",
            "[[                  1                   2                   4\n",
            "                    8                  16                  32\n",
            "                   64                 128]\n",
            " [                256                 512                1024\n",
            "                 2048                4096                8192\n",
            "                16384               32768]\n",
            " [              65536              131072              262144\n",
            "               524288             1048576             2097152\n",
            "              4194304             8388608]\n",
            " [           16777216            33554432            67108864\n",
            "            134217728           268435456           536870912\n",
            "           1073741824          2147483648]\n",
            " [         4294967296          8589934592         17179869184\n",
            "          34359738368         68719476736        137438953472\n",
            "         274877906944        549755813888]\n",
            " [      1099511627776       2199023255552       4398046511104\n",
            "        8796093022208      17592186044416      35184372088832\n",
            "       70368744177664     140737488355328]\n",
            " [    281474976710656     562949953421312    1125899906842624\n",
            "     2251799813685248    4503599627370496    9007199254740992\n",
            "    18014398509481984   36028797018963968]\n",
            " [  72057594037927936  144115188075855872  288230376151711744\n",
            "   576460752303423488 1152921504606846976 2305843009213693952\n",
            "  4611686018427387904 9223372036854775808]]\n"
          ]
        }
      ]
    },
    {
      "cell_type": "markdown",
      "source": [
        "### [Problem 3] Total number of wheat\n",
        "\n",
        "---\n",
        "\n"
      ],
      "metadata": {
        "id": "cBfAUuFkrGVI"
      }
    },
    {
      "cell_type": "code",
      "source": [
        "chessboard_ndarray = num_of_wheat(8, 8)\n",
        "total_wheat = chessboard_ndarray.sum()\n",
        "print(\"The total number of wheats is: \", total_wheat)"
      ],
      "metadata": {
        "colab": {
          "base_uri": "https://localhost:8080/"
        },
        "id": "2MzVdWakrD0L",
        "outputId": "a15109dd-964d-4c12-8664-6acd39af4186"
      },
      "execution_count": 8,
      "outputs": [
        {
          "output_type": "stream",
          "name": "stdout",
          "text": [
            "The total number of wheats is:  18446744073709551615\n"
          ]
        }
      ]
    },
    {
      "cell_type": "markdown",
      "source": [
        "### The average of each column on a 8x8 chess board:"
      ],
      "metadata": {
        "id": "ziUrfgS7tBME"
      }
    },
    {
      "cell_type": "code",
      "source": [
        "average_wheat = num_of_wheat(8,8).mean(axis=0)\n",
        "print(\"Average of each column: \\n{}\".format(average_wheat))"
      ],
      "metadata": {
        "colab": {
          "base_uri": "https://localhost:8080/"
        },
        "id": "0y8mmglPtEz2",
        "outputId": "e5c0ad42-3f0a-4de7-9d0b-e8772ec2886a"
      },
      "execution_count": 9,
      "outputs": [
        {
          "output_type": "stream",
          "name": "stdout",
          "text": [
            "Average of each column: \n",
            "[9.04252160e+15 1.80850432e+16 3.61700864e+16 7.23401728e+16\n",
            " 1.44680346e+17 2.89360691e+17 5.78721383e+17 1.15744277e+18]\n"
          ]
        }
      ]
    },
    {
      "cell_type": "markdown",
      "source": [
        "### Bar graph representation:"
      ],
      "metadata": {
        "id": "91pyDGtlte4E"
      }
    },
    {
      "cell_type": "code",
      "source": [
        "import matplotlib.pyplot as plt\n",
        "%matplotlib inline\n",
        "plt.xlabel(\"column\")\n",
        "plt.ylabel(\"number\")\n",
        "plt.title(\"number in each column\")\n",
        "plt.bar(np.arange(1,9),average_wheat)\n",
        "plt.show()"
      ],
      "metadata": {
        "colab": {
          "base_uri": "https://localhost:8080/",
          "height": 295
        },
        "id": "xq0kF1GMtuv8",
        "outputId": "a16c9b9e-15d9-4645-d4f7-8d5dd7a99b4a"
      },
      "execution_count": 10,
      "outputs": [
        {
          "output_type": "display_data",
          "data": {
            "text/plain": [
              "<Figure size 432x288 with 1 Axes>"
            ],
            "image/png": "[encoded data removed]"
          },
          "metadata": {
            "needs_background": "light"
          }
        }
      ]
    },
    {
      "cell_type": "markdown",
      "source": [
        "### [Problem 4] Heat map of the number of wheat\n",
        "\n",
        "---\n",
        "\n"
      ],
      "metadata": {
        "id": "JWv9XwTOuIq_"
      }
    },
    {
      "cell_type": "code",
      "source": [
        "n_squares = 64\n",
        "small_board_list = [1]\n",
        "for _ in range(n_squares - 1):\n",
        "    small_board_list.append(2*small_board_list[-1])\n",
        "print(small_board_list)"
      ],
      "metadata": {
        "colab": {
          "base_uri": "https://localhost:8080/"
        },
        "id": "xXtVGEBEurWJ",
        "outputId": "c76518e1-31b5-46bd-d361-35683c45051d"
      },
      "execution_count": 12,
      "outputs": [
        {
          "output_type": "stream",
          "name": "stdout",
          "text": [
            "[1, 2, 4, 8, 16, 32, 64, 128, 256, 512, 1024, 2048, 4096, 8192, 16384, 32768, 65536, 131072, 262144, 524288, 1048576, 2097152, 4194304, 8388608, 16777216, 33554432, 67108864, 134217728, 268435456, 536870912, 1073741824, 2147483648, 4294967296, 8589934592, 17179869184, 34359738368, 68719476736, 137438953472, 274877906944, 549755813888, 1099511627776, 2199023255552, 4398046511104, 8796093022208, 17592186044416, 35184372088832, 70368744177664, 140737488355328, 281474976710656, 562949953421312, 1125899906842624, 2251799813685248, 4503599627370496, 9007199254740992, 18014398509481984, 36028797018963968, 72057594037927936, 144115188075855872, 288230376151711744, 576460752303423488, 1152921504606846976, 2305843009213693952, 4611686018427387904, 9223372036854775808]\n"
          ]
        }
      ]
    },
    {
      "cell_type": "code",
      "source": [
        "plt.xlabel(\"column\")\n",
        "plt.ylabel(\"row\")\n",
        "plt.title(\"heatmap\")\n",
        "plt.pcolor(np.array(small_board_list).reshape(8, 8))\n",
        "plt.show()"
      ],
      "metadata": {
        "colab": {
          "base_uri": "https://localhost:8080/",
          "height": 295
        },
        "id": "laYAi1hQwVdo",
        "outputId": "3f99646b-1f73-40c9-cd06-b5452805cbb1"
      },
      "execution_count": 13,
      "outputs": [
        {
          "output_type": "display_data",
          "data": {
            "text/plain": [
              "<Figure size 432x288 with 1 Axes>"
            ],
            "image/png": "[encoded data removed]"
          },
          "metadata": {
            "needs_background": "light"
          }
        }
      ]
    },
    {
      "cell_type": "markdown",
      "source": [
        "### [Problem 5] How many times the second half is the first half\n",
        "\n",
        "---\n",
        "\n"
      ],
      "metadata": {
        "id": "tT-wJc5XwuHR"
      }
    },
    {
      "cell_type": "code",
      "source": [
        "#creating a data frame\n",
        "whole_chessboard = num_of_wheat(8, 8)\n",
        "#splicing the data\n",
        "first_half = whole_chessboard[0:4]\n",
        "second_half = whole_chessboard[4:8]\n",
        "#printing the result\n",
        "print(\"...........First half of the chess board..........\")\n",
        "print(first_half)\n",
        "print(\"...........Second half of the chess board..........\")\n",
        "print(second_half)"
      ],
      "metadata": {
        "colab": {
          "base_uri": "https://localhost:8080/"
        },
        "id": "C4D5lOfVwwib",
        "outputId": "6a2c7aa9-0875-413a-d6de-1948d46851f2"
      },
      "execution_count": 14,
      "outputs": [
        {
          "output_type": "stream",
          "name": "stdout",
          "text": [
            "...........First half of the chess board..........\n",
            "[[         1          2          4          8         16         32\n",
            "          64        128]\n",
            " [       256        512       1024       2048       4096       8192\n",
            "       16384      32768]\n",
            " [     65536     131072     262144     524288    1048576    2097152\n",
            "     4194304    8388608]\n",
            " [  16777216   33554432   67108864  134217728  268435456  536870912\n",
            "  1073741824 2147483648]]\n",
            "...........Second half of the chess board..........\n",
            "[[         4294967296          8589934592         17179869184\n",
            "          34359738368         68719476736        137438953472\n",
            "         274877906944        549755813888]\n",
            " [      1099511627776       2199023255552       4398046511104\n",
            "        8796093022208      17592186044416      35184372088832\n",
            "       70368744177664     140737488355328]\n",
            " [    281474976710656     562949953421312    1125899906842624\n",
            "     2251799813685248    4503599627370496    9007199254740992\n",
            "    18014398509481984   36028797018963968]\n",
            " [  72057594037927936  144115188075855872  288230376151711744\n",
            "   576460752303423488 1152921504606846976 2305843009213693952\n",
            "  4611686018427387904 9223372036854775808]]\n"
          ]
        }
      ]
    },
    {
      "cell_type": "code",
      "source": [
        "print(\"first half: \", first_half.sum(), \"\\nsecond half: \",second_half.sum())\n",
        "print(\"\\nThe second half is {} times longer than the first half\".format(first_half.sum() / second_half.sum()))"
      ],
      "metadata": {
        "colab": {
          "base_uri": "https://localhost:8080/"
        },
        "id": "6-glFUU3zAPK",
        "outputId": "c4a38933-ac14-4aff-c37d-d24cb462cf19"
      },
      "execution_count": 15,
      "outputs": [
        {
          "output_type": "stream",
          "name": "stdout",
          "text": [
            "first half:  4294967295 \n",
            "second half:  18446744069414584320\n",
            "\n",
            "The second half is 2.3283064365386963e-10 times longer than the first half\n"
          ]
        }
      ]
    },
    {
      "cell_type": "markdown",
      "source": [
        "### [Problem 6] Expansion to n × m mass by other calculation methods\n",
        "\n",
        "---\n",
        "\n"
      ],
      "metadata": {
        "id": "qT-9HkhLzejW"
      }
    },
    {
      "cell_type": "code",
      "source": [
        "indices_of_squares = np.arange(n_squares).astype(np.uint64)\n",
        "board_broadcast = 2**indices_of_squares\n",
        "print(\"Number of wheat in the last trout：\\n{}\".format(board_broadcast))"
      ],
      "metadata": {
        "colab": {
          "base_uri": "https://localhost:8080/"
        },
        "id": "aYPwm3NIzVCV",
        "outputId": "23ba16fa-ea71-4505-dacc-760599feb87b"
      },
      "execution_count": 17,
      "outputs": [
        {
          "output_type": "stream",
          "name": "stdout",
          "text": [
            "Number of wheat in the last trout：\n",
            "[                  1                   2                   4\n",
            "                   8                  16                  32\n",
            "                  64                 128                 256\n",
            "                 512                1024                2048\n",
            "                4096                8192               16384\n",
            "               32768               65536              131072\n",
            "              262144              524288             1048576\n",
            "             2097152             4194304             8388608\n",
            "            16777216            33554432            67108864\n",
            "           134217728           268435456           536870912\n",
            "          1073741824          2147483648          4294967296\n",
            "          8589934592         17179869184         34359738368\n",
            "         68719476736        137438953472        274877906944\n",
            "        549755813888       1099511627776       2199023255552\n",
            "       4398046511104       8796093022208      17592186044416\n",
            "      35184372088832      70368744177664     140737488355328\n",
            "     281474976710656     562949953421312    1125899906842624\n",
            "    2251799813685248    4503599627370496    9007199254740992\n",
            "   18014398509481984   36028797018963968   72057594037927936\n",
            "  144115188075855872  288230376151711744  576460752303423488\n",
            " 1152921504606846976 2305843009213693952 4611686018427387904\n",
            " 9223372036854775808]\n"
          ]
        }
      ]
    },
    {
      "cell_type": "markdown",
      "source": [
        "### [Problem 7] Comparison of calculation time\n",
        "\n",
        "---\n",
        "\n"
      ],
      "metadata": {
        "id": "eOeZb6dW0mEU"
      }
    },
    {
      "cell_type": "code",
      "source": [
        "%%timeit\n",
        "small_board_ndarray"
      ],
      "metadata": {
        "colab": {
          "base_uri": "https://localhost:8080/"
        },
        "id": "bu1wT3PU0s0c",
        "outputId": "8755fb9d-1661-40ce-fff1-495be8500e92"
      },
      "execution_count": 21,
      "outputs": [
        {
          "output_type": "stream",
          "name": "stdout",
          "text": [
            "10000000 loops, best of 5: 32.3 ns per loop\n"
          ]
        }
      ]
    },
    {
      "cell_type": "code",
      "source": [
        "%%timeit\n",
        "small_board_ndarray"
      ],
      "metadata": {
        "colab": {
          "base_uri": "https://localhost:8080/"
        },
        "id": "kPdMzfFs1bLR",
        "outputId": "7893613b-e232-4c2b-c984-cf8ce56cc60e"
      },
      "execution_count": 19,
      "outputs": [
        {
          "output_type": "stream",
          "name": "stdout",
          "text": [
            "10000000 loops, best of 5: 32.9 ns per loop\n"
          ]
        }
      ]
    },
    {
      "cell_type": "code",
      "source": [
        "%%timeit\n",
        "board_broadcast"
      ],
      "metadata": {
        "colab": {
          "base_uri": "https://localhost:8080/"
        },
        "id": "6EemYIq81i4I",
        "outputId": "593dc2db-256f-4c07-cb68-aedea6c66932"
      },
      "execution_count": 20,
      "outputs": [
        {
          "output_type": "stream",
          "name": "stdout",
          "text": [
            "10000000 loops, best of 5: 32.1 ns per loop\n"
          ]
        }
      ]
    }
  ]
}