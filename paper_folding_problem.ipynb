{
  "nbformat": 4,
  "nbformat_minor": 0,
  "metadata": {
    "colab": {
      "name": "paper_folding_problem.ipynb",
      "provenance": [],
      "collapsed_sections": []
    },
    "kernelspec": {
      "name": "python3",
      "display_name": "Python 3"
    },
    "language_info": {
      "name": "python"
    }
  },
  "cells": [
    {
      "cell_type": "markdown",
      "source": [
        "## `[Problem 1] Implementation using exponentiation arithmetic operators`"
      ],
      "metadata": {
        "id": "gAz0fuOpcxj-"
      }
    },
    {
      "cell_type": "code",
      "execution_count": null,
      "metadata": {
        "colab": {
          "base_uri": "https://localhost:8080/"
        },
        "id": "IBw5RLDFb266",
        "outputId": "23d1a96f-f262-48ed-974f-e74e7455cd67"
      },
      "outputs": [
        {
          "output_type": "stream",
          "name": "stdout",
          "text": [
            "Thickness: 703687441.77664 meters\n"
          ]
        }
      ],
      "source": [
        "THICKNESS = 0.00008\n",
        "\n",
        "folded_thickness = THICKNESS * 2 **43\n",
        "\n",
        "print(\"Thickness: {} meters\".format(folded_thickness))"
      ]
    },
    {
      "cell_type": "markdown",
      "source": [
        "## `[Problem 2] Unit Conversion`\n",
        "\n"
      ],
      "metadata": {
        "id": "bGQrDbYJdQrO"
      }
    },
    {
      "cell_type": "code",
      "source": [
        "print(\"Thickness: {: .2f}0,000 kilometers)\".format(folded_thickness / 10000))"
      ],
      "metadata": {
        "colab": {
          "base_uri": "https://localhost:8080/"
        },
        "id": "hBJIxeendpOh",
        "outputId": "e508b154-74b3-4342-c28b-fa319a0885ff"
      },
      "execution_count": null,
      "outputs": [
        {
          "output_type": "stream",
          "name": "stdout",
          "text": [
            "Thickness:  70368.740,000 kilometers)\n"
          ]
        }
      ]
    },
    {
      "cell_type": "markdown",
      "source": [
        "## `[Problem 3] Create using a for statement`"
      ],
      "metadata": {
        "id": "7-sVq9oBj0S5"
      }
    },
    {
      "cell_type": "code",
      "source": [
        "THICKNESS = 0.00008\n",
        "folded_times = 43\n",
        "\n",
        "folded_thickness = THICKNESS\n",
        "for i in range(folded_times):\n",
        "    folded_thickness = folded_thickness*2\n",
        "print(\"Thickness： {} meters\".format(folded_thickness))"
      ],
      "metadata": {
        "colab": {
          "base_uri": "https://localhost:8080/"
        },
        "id": "q1SBFwzpju6F",
        "outputId": "089dcb6b-8388-4383-92e9-164e1ce3da36"
      },
      "execution_count": null,
      "outputs": [
        {
          "output_type": "stream",
          "name": "stdout",
          "text": [
            "Thickness： 703687441.77664 meters\n"
          ]
        }
      ]
    },
    {
      "cell_type": "markdown",
      "source": [
        "## `[Problem 4] Comparison of calculation time`"
      ],
      "metadata": {
        "id": "W7CHNmQ-o0bj"
      }
    },
    {
      "cell_type": "code",
      "source": [
        "import time\n",
        "start = time.time()\n",
        "THICKNESS = 0.00008\n",
        "folded_times = 43\n",
        "folded_thickness = THICKNESS\n",
        "for i in range(folded_times):\n",
        "    folded_thickness = folded_thickness*2\n",
        "print(\"Thickness： {}meters\".format(folded_thickness))\n",
        "elapsed_time = time.time() - start\n",
        "print(\"time : {}s\".format(elapsed_time))"
      ],
      "metadata": {
        "colab": {
          "base_uri": "https://localhost:8080/"
        },
        "id": "9BtfEHVso9vV",
        "outputId": "73547d1c-ee2f-4972-9d43-899d55378150"
      },
      "execution_count": null,
      "outputs": [
        {
          "output_type": "stream",
          "name": "stdout",
          "text": [
            "Thickness： 703687441.77664meters\n",
            "time : 0.002535104751586914s\n"
          ]
        }
      ]
    },
    {
      "cell_type": "markdown",
      "source": [
        "## `[Problem 5] Saving to a list`"
      ],
      "metadata": {
        "id": "ByXoLpa0rBod"
      }
    },
    {
      "cell_type": "code",
      "source": [
        "THICKNESS = 0.00008\n",
        "folded_times = 43\n",
        "\n",
        "folded_thickness_list = [THICKNESS]\n",
        "\n",
        "for i in range(folded_times):\n",
        "    folded_thickness_list.append(folded_thickness_list[-1]*2)\n",
        "print(len(folded_thickness_list))\n",
        "print(folded_thickness_list)"
      ],
      "metadata": {
        "colab": {
          "base_uri": "https://localhost:8080/"
        },
        "id": "pXa20XCKvyv0",
        "outputId": "d7c902f3-6fa7-4274-9ea8-0d50ad6835d7"
      },
      "execution_count": null,
      "outputs": [
        {
          "output_type": "stream",
          "name": "stdout",
          "text": [
            "44\n",
            "[8e-05, 0.00016, 0.00032, 0.00064, 0.00128, 0.00256, 0.00512, 0.01024, 0.02048, 0.04096, 0.08192, 0.16384, 0.32768, 0.65536, 1.31072, 2.62144, 5.24288, 10.48576, 20.97152, 41.94304, 83.88608, 167.77216, 335.54432, 671.08864, 1342.17728, 2684.35456, 5368.70912, 10737.41824, 21474.83648, 42949.67296, 85899.34592, 171798.69184, 343597.38368, 687194.76736, 1374389.53472, 2748779.06944, 5497558.13888, 10995116.27776, 21990232.55552, 43980465.11104, 87960930.22208, 175921860.44416, 351843720.88832, 703687441.77664]\n"
          ]
        }
      ]
    },
    {
      "cell_type": "markdown",
      "source": [
        "## `Problem 6] Displaying a line graph`"
      ],
      "metadata": {
        "id": "1JXRxAhH1hPS"
      }
    },
    {
      "cell_type": "code",
      "source": [
        "import matplotlib.pyplot as plt\n",
        "%matplotlib inline\n",
        "plt.title(\"thickness of folded paper\")\n",
        "plt.xlabel(\"number of folds\")\n",
        "plt.ylabel(\"thickness[m]\")\n",
        "plt.plot(folded_thickness_list,linewidth=5,color='orange', label=\"Problem6\")\n",
        "plt.legend()\n",
        "plt.show()"
      ],
      "metadata": {
        "colab": {
          "base_uri": "https://localhost:8080/",
          "height": 295
        },
        "id": "un48yen31VzC",
        "outputId": "9d82c577-d96f-4723-8c94-6df11721b99d"
      },
      "execution_count": null,
      "outputs": [
        {
          "output_type": "display_data",
          "data": {
            "text/plain": [
              "<Figure size 432x288 with 1 Axes>"
            ],
            "image/png": "[encoded data removed]"
          },
          "metadata": {
            "needs_background": "light"
          }
        }
      ]
    },
    {
      "cell_type": "markdown",
      "source": [
        "## `[Problem 7] Customizing graphs`"
      ],
      "metadata": {
        "id": "WAH1wGPj5yBa"
      }
    },
    {
      "cell_type": "code",
      "source": [
        "plt.title(\"thickness of folded paper\")\n",
        "plt.xlabel(\"number of folds\")\n",
        "plt.ylabel(\"thickness[m]\")\n",
        "plt.plot(folded_thickness_list,linewidth=1.5,color='grey', label=\"Problem7 1st graph\")\n",
        "plt.legend()\n",
        "plt.show()\n",
        "\n",
        "plt.title(\"thickness of folded paper\")\n",
        "plt.xlabel(\"number of folds\")\n",
        "plt.ylabel(\"thickness[m]\")\n",
        "plt.tick_params(labelsize=20)\n",
        "plt.plot(folded_thickness_list,linewidth=3,color='green', label=\"Problem7 2nd graph\")\n",
        "plt.legend()\n",
        "plt.show()\n",
        "\n",
        "plt.title(\"thickness of folded paper\")\n",
        "plt.xlabel(\"number of folds\")\n",
        "plt.ylabel(\"thickness[m]\")\n",
        "plt.plot(folded_thickness_list,linewidth=5,color='violet', linestyle='dotted',marker='2',label=\"Problem7 3rd graph\")\n",
        "plt.legend()\n",
        "plt.show()"
      ],
      "metadata": {
        "colab": {
          "base_uri": "https://localhost:8080/",
          "height": 860
        },
        "id": "-312SyOV5vKn",
        "outputId": "a6941efb-0373-47a5-a052-cd6ade7dc02f"
      },
      "execution_count": 40,
      "outputs": [
        {
          "output_type": "display_data",
          "data": {
            "text/plain": [
              "<Figure size 432x288 with 1 Axes>"
            ],
            "image/png": "[encoded data removed]"
          },
          "metadata": {
            "needs_background": "light"
          }
        },
        {
          "output_type": "display_data",
          "data": {
            "text/plain": [
              "<Figure size 432x288 with 1 Axes>"
            ],
            "image/png": "[encoded data removed]"
          },
          "metadata": {
            "needs_background": "light"
          }
        },
        {
          "output_type": "display_data",
          "data": {
            "text/plain": [
              "<Figure size 432x288 with 1 Axes>"
            ],
            "image/png": "[encoded data removed]"
          },
          "metadata": {
            "needs_background": "light"
          }
        }
      ]
    }
  ]
}