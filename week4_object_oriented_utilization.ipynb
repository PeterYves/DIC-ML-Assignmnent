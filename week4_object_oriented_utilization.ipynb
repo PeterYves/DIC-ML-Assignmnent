{
  "nbformat": 4,
  "nbformat_minor": 0,
  "metadata": {
    "colab": {
      "name": "week4_object_oriented_utilization.ipynb",
      "provenance": [],
      "authorship_tag": "ABX9TyMigmDLp6Pctb2Q65gfHHJx",
      "include_colab_link": true
    },
    "kernelspec": {
      "name": "python3",
      "display_name": "Python 3"
    },
    "language_info": {
      "name": "python"
    }
  },
  "cells": [
    {
      "cell_type": "markdown",
      "metadata": {
        "id": "view-in-github",
        "colab_type": "text"
      },
      "source": [
        "<a href=\"https://colab.research.google.com/github/PeterYves/DIC-ML-Assignmnent/blob/main/week4_object_oriented_utilization.ipynb\" target=\"_parent\"><img src=\"https://colab.research.google.com/assets/colab-badge.svg\" alt=\"Open In Colab\"/></a>"
      ]
    },
    {
      "cell_type": "markdown",
      "source": [
        "# Utilization of object orientation\n",
        "\n",
        "---\n",
        "\n"
      ],
      "metadata": {
        "id": "ht24mUT8-oiF"
      }
    },
    {
      "cell_type": "code",
      "source": [
        "import numpy as np\n",
        "from sklearn.preprocessing import StandardScaler\n",
        "from sklearn.datasets import load_iris\n",
        "\n",
        "data = load_iris()\n",
        "X = data.data[:10]\n",
        "\n",
        "scaler = StandardScaler()\n",
        "scaler.fit(X)\n",
        "print(\"average :\", scaler.mean_)\n",
        "print(\"variance :\", scaler.var_)\n",
        "X_std = scaler.transform(X)"
      ],
      "metadata": {
        "colab": {
          "base_uri": "https://localhost:8080/"
        },
        "id": "Lin2xWvW-0Hb",
        "outputId": "6dbd3e56-4037-4d57-d932-4d1d46862e7c"
      },
      "execution_count": 1,
      "outputs": [
        {
          "output_type": "stream",
          "name": "stdout",
          "text": [
            "average : [4.86 3.31 1.45 0.22]\n",
            "variance : [0.0764 0.0849 0.0105 0.0056]\n"
          ]
        }
      ]
    },
    {
      "cell_type": "markdown",
      "source": [
        "> ### [Problem 1] Enumeration of classes used so far\n",
        "\n",
        "---\n",
        "\n"
      ],
      "metadata": {
        "id": "OQoCjvsb-kCR"
      }
    },
    {
      "cell_type": "markdown",
      "source": [
        "**Classes that were used in the previous assignments:**\n",
        "\n",
        "- **For scikit-learn:** StandardScaler, DecisionTreeClassifier, RandomForestClassifier, SVR, LinearRegression, KNeighborsClassifier\n",
        "\n",
        "- **For Pandas:** DataFrame, Series\n",
        "\n",
        "- **For matplotlib:** Figure, plt, Axes, "
      ],
      "metadata": {
        "id": "jirgx5rSBju7"
      }
    },
    {
      "cell_type": "markdown",
      "source": [
        "> ### [Problem 2] Enumeration of methods and instance variables used so far\n",
        "\n",
        "---\n",
        "\n"
      ],
      "metadata": {
        "id": "A7lt5Pp5GZhj"
      }
    },
    {
      "cell_type": "markdown",
      "source": [
        "**Methods and instance variables that were used in the code used in the previous assignments:**\n",
        "\n",
        "- **Methods:** fit(), predict(), title(), xlabel(), legend(), len(), transform(), sum(), mean(), rave(), etc....\n",
        "- **Instance variables:** ndarray.dtype, ndarray.shape, pd.Series.values, scaler.mean_, scaler.var_, ndarray.data, etc...."
      ],
      "metadata": {
        "id": "cUxpMOX9Gzaq"
      }
    },
    {
      "cell_type": "markdown",
      "source": [
        "> ### [Problem 3] Creating a standardized class by scratch\n",
        "\n",
        "---\n",
        "\n"
      ],
      "metadata": {
        "id": "Rx4cT-SbIC_B"
      }
    },
    {
      "cell_type": "code",
      "source": [
        "class ScratchStandardScaler():\n",
        "    \"\"\"\n",
        "    Class for standardization\n",
        "    Attributes\n",
        "    ----------\n",
        "    mean_: ndarray, shape (n_features,) of the following form \n",
        "    Average\n",
        "    var_: ndarray, shape (n_features,) of the following form\n",
        "    Distributed\n",
        "    \"\"\"\n",
        "    def fit (self, X):\n",
        "        \"\"\"\n",
        "        Calculate the mean and standard deviation for standardization.\n",
        "        Parameters\n",
        "        ----------\n",
        "        X: ndarray, shape (n_samples, n_features) of the following form\n",
        "        Training data\n",
        "        \"\"\"\n",
        "        self.mean_ = np.average(X, axis=0)\n",
        "        self.var_ = np.var(X, axis=0)\n",
        "    def transform (self, X):\n",
        "        \"\"\"\n",
        "        Standardize using the value obtained by fit.\n",
        "        Parameters\n",
        "        ----------\n",
        "        X: ndarray, shape (n_samples, n_features) of the following form\n",
        "        Feature value\n",
        "        Returns\n",
        "        ----------\n",
        "        X_scaled: ndarray, shape (n_samples, n_features) of the following form\n",
        "        Standardized special amount\n",
        "        \"\"\"\n",
        "        X_scaled = (X - self.mean_)/np.sqrt(self.var_)\n",
        "        return X_scaled "
      ],
      "metadata": {
        "id": "LR5SgCCfIjFP"
      },
      "execution_count": 2,
      "outputs": []
    },
    {
      "cell_type": "code",
      "source": [
        "import numpy as np\n",
        "from sklearn.datasets import load_iris\n",
        "data = load_iris()\n",
        "\n",
        "X = data.data[:10]\n",
        "scratch_scaler = ScratchStandardScaler()\n",
        "scratch_scaler.fit(X)\n",
        "\n",
        "print(\"Mean : {}\".format(scratch_scaler.mean_))\n",
        "print(\"Variance : {}\".format(scratch_scaler.var_))\n",
        "\n",
        "X_std = scratch_scaler.transform(X)\n",
        "print(X_std)"
      ],
      "metadata": {
        "colab": {
          "base_uri": "https://localhost:8080/"
        },
        "id": "igThl6bSJwgA",
        "outputId": "73fe185b-481e-4b2d-c657-0284fbf15f48"
      },
      "execution_count": 3,
      "outputs": [
        {
          "output_type": "stream",
          "name": "stdout",
          "text": [
            "Mean : [4.86 3.31 1.45 0.22]\n",
            "Variance : [0.0764 0.0849 0.0105 0.0056]\n",
            "[[ 0.86828953  0.65207831 -0.48795004 -0.26726124]\n",
            " [ 0.14471492 -1.06391725 -0.48795004 -0.26726124]\n",
            " [-0.57885968 -0.37751902 -1.46385011 -0.26726124]\n",
            " [-0.94064699 -0.72071813  0.48795004 -0.26726124]\n",
            " [ 0.50650222  0.99527742 -0.48795004 -0.26726124]\n",
            " [ 1.95365143  2.02487476  2.43975018  2.40535118]\n",
            " [-0.94064699  0.3088792  -0.48795004  1.06904497]\n",
            " [ 0.50650222  0.3088792   0.48795004 -0.26726124]\n",
            " [-1.66422159 -1.40711636 -0.48795004 -0.26726124]\n",
            " [ 0.14471492 -0.72071813  0.48795004 -1.60356745]]\n"
          ]
        }
      ]
    },
    {
      "cell_type": "markdown",
      "source": [
        "> ### [Problem 4] Creating a class that performs 4 arithmetic operations\n",
        "\n",
        "---\n",
        "\n"
      ],
      "metadata": {
        "id": "1Dfn5DXPKcHU"
      }
    },
    {
      "cell_type": "code",
      "source": [
        "class ExampleClass():\n",
        "    \"\"\"\n",
        "    A simple class for explanation\n",
        "    Parameters\n",
        "    ----------\n",
        "        value: float or int\n",
        "            initial value\n",
        "    Attributes\n",
        "    ----------\n",
        "        value: float or int\n",
        "            Calculation result\n",
        "    \"\"\"\n",
        "    def __init__(self, value):\n",
        "        if type(value) not in [int, float]:\n",
        "            raise Exception('The value must be numeric.')\n",
        "        self.value = value\n",
        "        print(\"The initial value is {}:\" .format(self.value))\n",
        "        print(\"=============================\")\n",
        "    \n",
        "    def add(self, value2):\n",
        "        \"\"\"\n",
        "        Add the received argument to self.value\n",
        "        \"\"\"\n",
        "        self.value += value2\n",
        "        \n",
        "    def sub(self, value2):\n",
        "        self.value -= value2\n",
        "        \n",
        "    def mul(self, value2):\n",
        "        self.value *= value2\n",
        "        \n",
        "    def div(self, value2):\n",
        "        self.value /= value2"
      ],
      "metadata": {
        "id": "ozN9LjcvKfO0"
      },
      "execution_count": 5,
      "outputs": []
    },
    {
      "cell_type": "code",
      "source": [
        "nbr = ExampleClass(10)\n",
        "nbr.add(1)\n",
        "print(\"The sum is : {}\".format(nbr.value))\n",
        "nbr.sub(4)\n",
        "print(\"The difference is : {}\".format(nbr.value))\n",
        "nbr.mul(3)\n",
        "print(\"The product is : {}\".format(nbr.value))\n",
        "nbr.div(6)\n",
        "print(\"The quotient is : {}\".format(nbr.value))"
      ],
      "metadata": {
        "colab": {
          "base_uri": "https://localhost:8080/"
        },
        "id": "0REaRAsSL0XX",
        "outputId": "d31c62af-bb28-4604-a565-95a7fa0d869c"
      },
      "execution_count": 9,
      "outputs": [
        {
          "output_type": "stream",
          "name": "stdout",
          "text": [
            "The initial value is 10:\n",
            "=============================\n",
            "The sum is : 11\n",
            "The difference is : 7\n",
            "The product is : 21\n",
            "The quotient is : 3.5\n"
          ]
        }
      ]
    },
    {
      "cell_type": "code",
      "source": [
        "nbr_error = ExampleClass('ten')"
      ],
      "metadata": {
        "colab": {
          "base_uri": "https://localhost:8080/",
          "height": 287
        },
        "id": "SGQaIBnFNVH_",
        "outputId": "ce4f9d5a-7886-4010-a63b-4d91a2cc2f6c"
      },
      "execution_count": 10,
      "outputs": [
        {
          "output_type": "error",
          "ename": "Exception",
          "evalue": "ignored",
          "traceback": [
            "\u001b[0;31m---------------------------------------------------------------------------\u001b[0m",
            "\u001b[0;31mException\u001b[0m                                 Traceback (most recent call last)",
            "\u001b[0;32m<ipython-input-10-19008d2649be>\u001b[0m in \u001b[0;36m<module>\u001b[0;34m\u001b[0m\n\u001b[0;32m----> 1\u001b[0;31m \u001b[0mnbr_error\u001b[0m \u001b[0;34m=\u001b[0m \u001b[0mExampleClass\u001b[0m\u001b[0;34m(\u001b[0m\u001b[0;34m'ten'\u001b[0m\u001b[0;34m)\u001b[0m\u001b[0;34m\u001b[0m\u001b[0;34m\u001b[0m\u001b[0m\n\u001b[0m",
            "\u001b[0;32m<ipython-input-5-57c3c4926e1c>\u001b[0m in \u001b[0;36m__init__\u001b[0;34m(self, value)\u001b[0m\n\u001b[1;32m     13\u001b[0m     \u001b[0;32mdef\u001b[0m \u001b[0m__init__\u001b[0m\u001b[0;34m(\u001b[0m\u001b[0mself\u001b[0m\u001b[0;34m,\u001b[0m \u001b[0mvalue\u001b[0m\u001b[0;34m)\u001b[0m\u001b[0;34m:\u001b[0m\u001b[0;34m\u001b[0m\u001b[0;34m\u001b[0m\u001b[0m\n\u001b[1;32m     14\u001b[0m         \u001b[0;32mif\u001b[0m \u001b[0mtype\u001b[0m\u001b[0;34m(\u001b[0m\u001b[0mvalue\u001b[0m\u001b[0;34m)\u001b[0m \u001b[0;32mnot\u001b[0m \u001b[0;32min\u001b[0m \u001b[0;34m[\u001b[0m\u001b[0mint\u001b[0m\u001b[0;34m,\u001b[0m \u001b[0mfloat\u001b[0m\u001b[0;34m]\u001b[0m\u001b[0;34m:\u001b[0m\u001b[0;34m\u001b[0m\u001b[0;34m\u001b[0m\u001b[0m\n\u001b[0;32m---> 15\u001b[0;31m             \u001b[0;32mraise\u001b[0m \u001b[0mException\u001b[0m\u001b[0;34m(\u001b[0m\u001b[0;34m'The value must be numeric.'\u001b[0m\u001b[0;34m)\u001b[0m\u001b[0;34m\u001b[0m\u001b[0;34m\u001b[0m\u001b[0m\n\u001b[0m\u001b[1;32m     16\u001b[0m         \u001b[0mself\u001b[0m\u001b[0;34m.\u001b[0m\u001b[0mvalue\u001b[0m \u001b[0;34m=\u001b[0m \u001b[0mvalue\u001b[0m\u001b[0;34m\u001b[0m\u001b[0;34m\u001b[0m\u001b[0m\n\u001b[1;32m     17\u001b[0m         \u001b[0mprint\u001b[0m\u001b[0;34m(\u001b[0m\u001b[0;34m\"The initial value is {}:\"\u001b[0m \u001b[0;34m.\u001b[0m\u001b[0mformat\u001b[0m\u001b[0;34m(\u001b[0m\u001b[0mself\u001b[0m\u001b[0;34m.\u001b[0m\u001b[0mvalue\u001b[0m\u001b[0;34m)\u001b[0m\u001b[0;34m)\u001b[0m\u001b[0;34m\u001b[0m\u001b[0;34m\u001b[0m\u001b[0m\n",
            "\u001b[0;31mException\u001b[0m: The value must be numeric."
          ]
        }
      ]
    },
    {
      "cell_type": "code",
      "source": [
        "nbr_err2 = ExampleClass([10, 13, 20])"
      ],
      "metadata": {
        "colab": {
          "base_uri": "https://localhost:8080/",
          "height": 287
        },
        "id": "nAj7c-9INrKy",
        "outputId": "249ce75c-a629-4f7c-a027-5382ddae1642"
      },
      "execution_count": 11,
      "outputs": [
        {
          "output_type": "error",
          "ename": "Exception",
          "evalue": "ignored",
          "traceback": [
            "\u001b[0;31m---------------------------------------------------------------------------\u001b[0m",
            "\u001b[0;31mException\u001b[0m                                 Traceback (most recent call last)",
            "\u001b[0;32m<ipython-input-11-673288c8156c>\u001b[0m in \u001b[0;36m<module>\u001b[0;34m\u001b[0m\n\u001b[0;32m----> 1\u001b[0;31m \u001b[0mnbr_err2\u001b[0m \u001b[0;34m=\u001b[0m \u001b[0mExampleClass\u001b[0m\u001b[0;34m(\u001b[0m\u001b[0;34m[\u001b[0m\u001b[0;36m10\u001b[0m\u001b[0;34m,\u001b[0m \u001b[0;36m13\u001b[0m\u001b[0;34m,\u001b[0m \u001b[0;36m20\u001b[0m\u001b[0;34m]\u001b[0m\u001b[0;34m)\u001b[0m\u001b[0;34m\u001b[0m\u001b[0;34m\u001b[0m\u001b[0m\n\u001b[0m",
            "\u001b[0;32m<ipython-input-5-57c3c4926e1c>\u001b[0m in \u001b[0;36m__init__\u001b[0;34m(self, value)\u001b[0m\n\u001b[1;32m     13\u001b[0m     \u001b[0;32mdef\u001b[0m \u001b[0m__init__\u001b[0m\u001b[0;34m(\u001b[0m\u001b[0mself\u001b[0m\u001b[0;34m,\u001b[0m \u001b[0mvalue\u001b[0m\u001b[0;34m)\u001b[0m\u001b[0;34m:\u001b[0m\u001b[0;34m\u001b[0m\u001b[0;34m\u001b[0m\u001b[0m\n\u001b[1;32m     14\u001b[0m         \u001b[0;32mif\u001b[0m \u001b[0mtype\u001b[0m\u001b[0;34m(\u001b[0m\u001b[0mvalue\u001b[0m\u001b[0;34m)\u001b[0m \u001b[0;32mnot\u001b[0m \u001b[0;32min\u001b[0m \u001b[0;34m[\u001b[0m\u001b[0mint\u001b[0m\u001b[0;34m,\u001b[0m \u001b[0mfloat\u001b[0m\u001b[0;34m]\u001b[0m\u001b[0;34m:\u001b[0m\u001b[0;34m\u001b[0m\u001b[0;34m\u001b[0m\u001b[0m\n\u001b[0;32m---> 15\u001b[0;31m             \u001b[0;32mraise\u001b[0m \u001b[0mException\u001b[0m\u001b[0;34m(\u001b[0m\u001b[0;34m'The value must be numeric.'\u001b[0m\u001b[0;34m)\u001b[0m\u001b[0;34m\u001b[0m\u001b[0;34m\u001b[0m\u001b[0m\n\u001b[0m\u001b[1;32m     16\u001b[0m         \u001b[0mself\u001b[0m\u001b[0;34m.\u001b[0m\u001b[0mvalue\u001b[0m \u001b[0;34m=\u001b[0m \u001b[0mvalue\u001b[0m\u001b[0;34m\u001b[0m\u001b[0;34m\u001b[0m\u001b[0m\n\u001b[1;32m     17\u001b[0m         \u001b[0mprint\u001b[0m\u001b[0;34m(\u001b[0m\u001b[0;34m\"The initial value is {}:\"\u001b[0m \u001b[0;34m.\u001b[0m\u001b[0mformat\u001b[0m\u001b[0;34m(\u001b[0m\u001b[0mself\u001b[0m\u001b[0;34m.\u001b[0m\u001b[0mvalue\u001b[0m\u001b[0;34m)\u001b[0m\u001b[0;34m)\u001b[0m\u001b[0;34m\u001b[0m\u001b[0;34m\u001b[0m\u001b[0m\n",
            "\u001b[0;31mException\u001b[0m: The value must be numeric."
          ]
        }
      ]
    }
  ]
}