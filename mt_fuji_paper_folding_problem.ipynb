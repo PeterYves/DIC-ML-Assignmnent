{
  "nbformat": 4,
  "nbformat_minor": 0,
  "metadata": {
    "colab": {
      "name": "mt_fuji_paper_folding_problem.ipynb",
      "provenance": [],
      "authorship_tag": "ABX9TyOrZ38OsLpN328aC+cF3EOc",
      "include_colab_link": true
    },
    "kernelspec": {
      "name": "python3",
      "display_name": "Python 3"
    },
    "language_info": {
      "name": "python"
    }
  },
  "cells": [
    {
      "cell_type": "markdown",
      "metadata": {
        "id": "view-in-github",
        "colab_type": "text"
      },
      "source": [
        "<a href=\"https://colab.research.google.com/github/PeterYves/DIC-ML-Assignmnent/blob/main/mt_fuji_paper_folding_problem.ipynb\" target=\"_parent\"><img src=\"https://colab.research.google.com/assets/colab-badge.svg\" alt=\"Open In Colab\"/></a>"
      ]
    },
    {
      "cell_type": "markdown",
      "source": [
        "## `[Problem 1] How many times to fold paper to exceed the height of Mt.Fuji?`\n",
        "\n",
        "---\n",
        "\n"
      ],
      "metadata": {
        "id": "bBwiDYFIFhEV"
      }
    },
    {
      "cell_type": "code",
      "execution_count": 3,
      "metadata": {
        "colab": {
          "base_uri": "https://localhost:8080/"
        },
        "id": "IAS68YluEx7k",
        "outputId": "b74b600b-beb1-4b61-8918-2842a2493b7a"
      },
      "outputs": [
        {
          "output_type": "stream",
          "name": "stdout",
          "text": [
            "The minimum number of folds over Mt. Fuji is 26 times.\n"
          ]
        }
      ],
      "source": [
        "thickness = 0.00008\n",
        "mfuji_height = 3776\n",
        "nbr_of_folds = 0\n",
        "new_thickness = thickness * 2**nbr_of_folds\n",
        "while new_thickness <= mfuji_height:\n",
        "  nbr_of_folds += 1\n",
        "  new_thickness = thickness * 2**nbr_of_folds\n",
        "print(\"The minimum number of folds over Mt. Fuji is {} times.\" .format(nbr_of_folds))"
      ]
    },
    {
      "cell_type": "markdown",
      "source": [
        "## `[Problem 2] Function corresponding to arbitrary thickness`\n",
        "\n",
        "---\n",
        "\n"
      ],
      "metadata": {
        "id": "GQrAq95rJId_"
      }
    },
    {
      "cell_type": "code",
      "source": [
        "import math\n",
        "def arbitrary_tickness(distance):\n",
        "  thickness = 0.00008\n",
        "  times = math.log2(distance/thickness)\n",
        "  return times\n",
        "print (\"The number of paper folds are {:2f} times\".format(arbitrary_tickness(5000)))"
      ],
      "metadata": {
        "colab": {
          "base_uri": "https://localhost:8080/"
        },
        "id": "GFTNAW1HJOi3",
        "outputId": "b14f1a45-6f08-4727-d406-a6e6c254e7e6"
      },
      "execution_count": 22,
      "outputs": [
        {
          "output_type": "stream",
          "name": "stdout",
          "text": [
            "The number of paper folds are 25.897353 times\n"
          ]
        }
      ]
    },
    {
      "cell_type": "markdown",
      "source": [
        "## `[Problem 3] Required paper length`\n",
        "\n",
        "---\n",
        "\n"
      ],
      "metadata": {
        "id": "TJXJQO2ZLAg6"
      }
    },
    {
      "cell_type": "code",
      "source": [
        "def paper_legth(distance):\n",
        "    thickness = 0.00008\n",
        "    n = arbitrary_tickness(distance)\n",
        "    l= (thickness*math.pi)/6*(2**n+4)*(2**n - 1)\n",
        "    return f'The length of paper needed to reach out to {distance} meters is {round(l):,} meters'\n",
        "paper_legth(3000)"
      ],
      "metadata": {
        "colab": {
          "base_uri": "https://localhost:8080/",
          "height": 35
        },
        "id": "bbh4sa2fLFvC",
        "outputId": "5f5dbca6-5e5e-4015-d239-092b851dedb6"
      },
      "execution_count": 33,
      "outputs": [
        {
          "output_type": "execute_result",
          "data": {
            "text/plain": [
              "'The length of paper needed to reach out to 3000 meters is 58,904,866,967 meters'"
            ],
            "application/vnd.google.colaboratory.intrinsic+json": {
              "type": "string"
            }
          },
          "metadata": {},
          "execution_count": 33
        }
      ]
    },
    {
      "cell_type": "code",
      "source": [
        "# length of paper needed to reach the Moon\n",
        "paper_legth(384400000)"
      ],
      "metadata": {
        "colab": {
          "base_uri": "https://localhost:8080/",
          "height": 35
        },
        "id": "elIBs8_-VDuD",
        "outputId": "525703aa-a2f9-4d02-d0bf-ab89636cfba8"
      },
      "execution_count": 32,
      "outputs": [
        {
          "output_type": "execute_result",
          "data": {
            "text/plain": [
              "'The length of paper needed to reach out to 384400000 meters is 967,108,929,679,232,729,088 meters'"
            ],
            "application/vnd.google.colaboratory.intrinsic+json": {
              "type": "string"
            }
          },
          "metadata": {},
          "execution_count": 32
        }
      ]
    },
    {
      "cell_type": "code",
      "source": [
        "#length of paper needed to reach the Mt. Fuji\n",
        "paper_legth(3776)"
      ],
      "metadata": {
        "colab": {
          "base_uri": "https://localhost:8080/",
          "height": 35
        },
        "id": "e6uJc6LDUoFD",
        "outputId": "20704f40-3a74-4413-b117-3a8adb4e16db"
      },
      "execution_count": 31,
      "outputs": [
        {
          "output_type": "execute_result",
          "data": {
            "text/plain": [
              "'The length of paper needed to reach out to 3776 meters is 93,319,549,630 meters'"
            ],
            "application/vnd.google.colaboratory.intrinsic+json": {
              "type": "string"
            }
          },
          "metadata": {},
          "execution_count": 31
        }
      ]
    },
    {
      "cell_type": "code",
      "source": [
        "#length of paper needed to reach the the stars closest to the Sun\n",
        "paper_legth(2500000)"
      ],
      "metadata": {
        "colab": {
          "base_uri": "https://localhost:8080/",
          "height": 35
        },
        "id": "LPPsaQaTVamC",
        "outputId": "c6f0f78f-8ddf-4734-9af6-d6b01ea1abd4"
      },
      "execution_count": 34,
      "outputs": [
        {
          "output_type": "execute_result",
          "data": {
            "text/plain": [
              "'The length of paper needed to reach out to 2500000 meters is 40,906,154,347,544,088 meters'"
            ],
            "application/vnd.google.colaboratory.intrinsic+json": {
              "type": "string"
            }
          },
          "metadata": {},
          "execution_count": 34
        }
      ]
    }
  ]
}