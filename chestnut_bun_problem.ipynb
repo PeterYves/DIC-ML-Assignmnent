{
  "nbformat": 4,
  "nbformat_minor": 0,
  "metadata": {
    "colab": {
      "name": "chestnut_bun_problem.ipynb",
      "provenance": [],
      "collapsed_sections": [],
      "authorship_tag": "ABX9TyNoi5WeIYgH561aHj+0YzXg",
      "include_colab_link": true
    },
    "kernelspec": {
      "name": "python3",
      "display_name": "Python 3"
    },
    "language_info": {
      "name": "python"
    }
  },
  "cells": [
    {
      "cell_type": "markdown",
      "metadata": {
        "id": "view-in-github",
        "colab_type": "text"
      },
      "source": [
        "<a href=\"https://colab.research.google.com/github/PeterYves/DIC-ML-Assignmnent/blob/main/chestnut_bun_problem.ipynb\" target=\"_parent\"><img src=\"https://colab.research.google.com/assets/colab-badge.svg\" alt=\"Open In Colab\"/></a>"
      ]
    },
    {
      "cell_type": "markdown",
      "source": [
        "## `[Problem] The day when chestnut buns cover the solar system`\n",
        "\n",
        "---\n",
        "\n"
      ],
      "metadata": {
        "id": "eaxOI3ZjZbZN"
      }
    },
    {
      "cell_type": "code",
      "execution_count": null,
      "metadata": {
        "id": "hN8azETFZME_",
        "colab": {
          "base_uri": "https://localhost:8080/"
        },
        "outputId": "cfc0ac52-9d63-4555-be6c-ee55ac794fb1"
      },
      "outputs": [
        {
          "output_type": "stream",
          "name": "stdout",
          "text": [
            "It will take the chestnut bun 35mins to cover the solar system.\n"
          ]
        }
      ],
      "source": [
        "def solar_system(object_size):\n",
        "\n",
        "    solar_system_size = 50000  # Let's Assume that the volume of the solar system is 50,000 m3(cubic meter).\n",
        "\n",
        "    time = 0\n",
        "\n",
        "    while True:\n",
        "        if object_size >= solar_system_size:\n",
        "            break\n",
        "        else:\n",
        "            object_size *= 2\n",
        "            time += 5\n",
        "    return print(\"It will take the chestnut bun {}mins to cover the solar system.\".format(time))\n",
        "\n",
        "solar_system(500) # Let's assume that the volume of a checnut bun is 500 m3."
      ]
    },
    {
      "cell_type": "markdown",
      "source": [
        "### `Graphical representation`"
      ],
      "metadata": {
        "id": "KU8H5ahNhdy3"
      }
    },
    {
      "cell_type": "code",
      "source": [
        "def Tokyo_Dome(object_size):\n",
        "    size_tokyo_dome = 500000 #Size of the Tokyo Dome in Cubic meters\n",
        "    time = 0\n",
        "    minutes = []\n",
        "    size = []\n",
        "    while True:\n",
        "        if object_size >= size_tokyo_dome:\n",
        "            break\n",
        "        else:\n",
        "            object_size *=2\n",
        "            time +=5\n",
        "            minutes.append(time)\n",
        "            size.append(object_size)\n",
        "    \n",
        "    import matplotlib.pyplot as plt\n",
        "    \n",
        "    plt.plot(minutes, size, 'b-o', linewidth=2, markersize=12, markeredgewidth=3, markeredgecolor='orange', color=\"black\", label=\"Time taken to fill up Tokyo Dome when you sprin\")\n",
        "    plt.xlabel('Time in minutes')\n",
        "    plt.ylabel('Size of the object')\n",
        "    plt.title(\"Relating to Tokyo Dome Situation\")\n",
        "    plt.legend(loc='upper center')\n",
        "    print(\"it takes {} Minutes\".format(time))\n",
        "Tokyo_Dome(10000)"
      ],
      "metadata": {
        "colab": {
          "base_uri": "https://localhost:8080/",
          "height": 312
        },
        "id": "T6KtgCEuhdRB",
        "outputId": "ef90969b-54af-4fb9-99f8-35e2d0e98e2a"
      },
      "execution_count": 44,
      "outputs": [
        {
          "output_type": "stream",
          "name": "stdout",
          "text": [
            "it takes 30 Minutes\n"
          ]
        },
        {
          "output_type": "display_data",
          "data": {
            "text/plain": [
              "<Figure size 432x288 with 1 Axes>"
            ],
            "image/png": "[encoded data removed]"
          },
          "metadata": {
            "needs_background": "light"
          }
        }
      ]
    }
  ]
}